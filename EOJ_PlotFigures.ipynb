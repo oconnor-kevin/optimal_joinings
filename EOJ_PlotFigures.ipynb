{
 "cells": [
  {
   "cell_type": "code",
   "execution_count": null,
   "metadata": {},
   "outputs": [],
   "source": [
    "import datetime as dt\n",
    "import itertools\n",
    "import math\n",
    "import matplotlib.pyplot as plt\n",
    "import numpy as np\n",
    "import os\n",
    "import ot\n",
    "import pandas as pd\n",
    "import pickle5 as pickle\n",
    "import seaborn as sns\n",
    "import time\n",
    "from tqdm.notebook import tqdm"
   ]
  },
  {
   "cell_type": "code",
   "execution_count": null,
   "metadata": {},
   "outputs": [],
   "source": [
    "np.random.seed(315)"
   ]
  },
  {
   "cell_type": "code",
   "execution_count": null,
   "metadata": {},
   "outputs": [],
   "source": [
    "output_dir = \"/Users/kevinoconnor/Dropbox/Research/EstimationOfOJ/Simulation\""
   ]
  },
  {
   "cell_type": "markdown",
   "metadata": {},
   "source": [
    "# Experiment 1"
   ]
  },
  {
   "cell_type": "code",
   "execution_count": null,
   "metadata": {},
   "outputs": [],
   "source": [
    "file_names = [\n",
    "    \"identical_markov_chains_results_df.pkl\",\n",
    "    \"identical_hmms_results_df.pkl\",\n",
    "    \"mc_vs_mc_results_df.pkl\",\n",
    "    \"hmm_vs_hmm_results_df.pkl\",\n",
    "]\n",
    "file_dir = os.path.join(output_dir, \"cost_convergence\", \"20230325093101069040\")\n",
    "results_df = pd.DataFrame()\n",
    "for file_name in file_names:\n",
    "    file_path = os.path.join(file_dir, file_name)\n",
    "    with open(file_path, \"rb\") as fh:\n",
    "        _df = pickle.load(fh)\n",
    "        _df[\"name\"] = file_name\n",
    "        results_df = pd.concat([results_df, _df], ignore_index=True)\n",
    "\n",
    "display(results_df)"
   ]
  },
  {
   "cell_type": "code",
   "execution_count": null,
   "metadata": {},
   "outputs": [],
   "source": [
    "file_name_dict = {\n",
    "    \"identical_markov_chains_results_df.pkl\": \"Identical Markov Chains\",\n",
    "    \"identical_hmms_results_df.pkl\": \"Identical HMMs\",\n",
    "    \"mc_vs_mc_results_df.pkl\": \"Markov Chain vs Markov Chain\",\n",
    "    \"hmm_vs_hmm_results_df.pkl\": \"HMM vs HMM\",\n",
    "}"
   ]
  },
  {
   "cell_type": "code",
   "execution_count": null,
   "metadata": {},
   "outputs": [],
   "source": [
    "fig, axes = plt.subplots(1, 4, figsize=(21,3))\n",
    "\n",
    "for i, file_name in enumerate(file_names):\n",
    "    df_to_plot = results_df[results_df[\"name\"] == file_name]\n",
    "    for reg, df in df_to_plot.groupby(\"reg\"):\n",
    "        axes[i].plot(df[\"n\"], df[\"mean\"], label=\"reg={}\".format(reg))\n",
    "\n",
    "    if i == 0:\n",
    "        axes[i].legend()\n",
    "\n",
    "    for reg, df in df_to_plot.groupby(\"reg\"):\n",
    "        axes[i].fill_between(df[\"n\"], df[\"lower_sd\"], df[\"upper_sd\"], alpha=0.2, label=\"reg={}\".format(reg))\n",
    "\n",
    "    axes[i].set_xlabel(\"n\")\n",
    "    axes[i].set_ylabel(\"Estimated Cost\")\n",
    "    axes[i].set_title(file_name_dict[file_name])\n",
    "    axes[i].grid()\n",
    "    \n",
    "exp_id = ''.join(c for c in str(dt.datetime.now()) if c.isdigit())\n",
    "fig_dir = os.path.join(output_dir, \"figures\", exp_id)\n",
    "os.makedirs(fig_dir, exist_ok=True)\n",
    "plt.savefig(os.path.join(fig_dir, \"cost_convergence.png\"), bbox_inches='tight')\n",
    "\n",
    "plt.show()"
   ]
  },
  {
   "cell_type": "code",
   "execution_count": null,
   "metadata": {},
   "outputs": [],
   "source": []
  },
  {
   "cell_type": "markdown",
   "metadata": {},
   "source": [
    "# Experiment 2"
   ]
  },
  {
   "cell_type": "code",
   "execution_count": null,
   "metadata": {},
   "outputs": [],
   "source": [
    "file_path = os.path.join(output_dir, \"20230321090724157474\", \"time_df.pkl\")\n",
    "with open(file_path, \"rb\") as fh:\n",
    "    results_df = pickle.load(fh)\n",
    "display(results_df.head())"
   ]
  },
  {
   "cell_type": "code",
   "execution_count": null,
   "metadata": {},
   "outputs": [],
   "source": [
    "fig, axes = plt.subplots(1, 3, figsize=(16,3))\n",
    "\n",
    "for reg, df_reg in results_df.groupby(\"reg\"):\n",
    "    df_grp = df_reg.groupby(\"n\")\n",
    "\n",
    "    _df = df_grp[\"time_diff\"].agg([np.mean, lambda x: 2*np.std(x)]).reset_index()\n",
    "    axes[0].errorbar(\n",
    "        x=_df.iloc[:,0],\n",
    "        y=_df.iloc[:,1],\n",
    "        yerr=_df.iloc[:,2],\n",
    "        label=\"eta={}\".format(reg)\n",
    "    )\n",
    "\n",
    "    _df = df_grp[\"time_diff_pct\"].agg([np.mean, lambda x: 2*np.std(x)]).reset_index()\n",
    "    axes[1].errorbar(\n",
    "        x=_df.iloc[:,0],\n",
    "        y=_df.iloc[:,1],\n",
    "        yerr=_df.iloc[:,2],\n",
    "        label=\"eta={}\".format(reg)\n",
    "    )\n",
    "\n",
    "    _df = df_grp[\"cost_diff_pct\"].agg([np.mean, lambda x: 2*np.std(x)]).reset_index()\n",
    "    axes[2].errorbar(\n",
    "        x=_df.iloc[:,0],\n",
    "        y=_df.iloc[:,1],\n",
    "        yerr=_df.iloc[:,2],\n",
    "        label=\"eta={}\".format(reg)\n",
    "    )\n",
    "\n",
    "    \n",
    "axes[0].ticklabel_format(style='sci', axis='y', scilimits=(0,0))\n",
    "axes[0].set_xlabel(\"n\")\n",
    "axes[0].set_ylabel(\"Time Difference (s)\")\n",
    "axes[0].set_title(\"Difference in Runtimes\")\n",
    "axes[0].legend()\n",
    "axes[0].grid()    \n",
    "\n",
    "axes[1].set_xlabel(\"n\")\n",
    "axes[1].set_ylabel(\"Time Difference (%)\")\n",
    "axes[1].set_title(\"Percent Difference in Runtimes\")\n",
    "# axes[1].legend()\n",
    "axes[1].grid()\n",
    "    \n",
    "axes[2].set_xlabel(\"n\")\n",
    "axes[2].set_ylabel(\"Cost Difference (%)\")\n",
    "axes[2].set_title(\"Percent Difference in Cost\")\n",
    "# axes[2].legend()\n",
    "axes[2].grid()\n",
    "\n",
    "handles, labels = axes[2].get_legend_handles_labels()\n",
    "\n",
    "# fig.legend(handles, labels, loc = \"lower center\", ncol=3, bbox_to_anchor=(0.5, -0.04), borderaxespad=0)\n",
    "\n",
    "exp_id = ''.join(c for c in str(dt.datetime.now()) if c.isdigit())\n",
    "fig_dir = os.path.join(output_dir, \"figures\", exp_id)\n",
    "os.makedirs(fig_dir, exist_ok=True)\n",
    "plt.savefig(os.path.join(fig_dir, \"runtimes.png\"), bbox_inches='tight')\n",
    "\n",
    "plt.show()"
   ]
  },
  {
   "cell_type": "code",
   "execution_count": null,
   "metadata": {},
   "outputs": [],
   "source": []
  }
 ],
 "metadata": {
  "kernelspec": {
   "display_name": "Python 3",
   "language": "python",
   "name": "python3"
  },
  "language_info": {
   "codemirror_mode": {
    "name": "ipython",
    "version": 3
   },
   "file_extension": ".py",
   "mimetype": "text/x-python",
   "name": "python",
   "nbconvert_exporter": "python",
   "pygments_lexer": "ipython3",
   "version": "3.7.4"
  }
 },
 "nbformat": 4,
 "nbformat_minor": 2
}
